{
 "cells": [
  {
   "cell_type": "code",
   "execution_count": 3,
   "metadata": {},
   "outputs": [],
   "source": [
    "import pandas as pd\n",
    "import numpy as np\n",
    "import matplotlib.pyplot as mp\n",
    "import tensorflow as tf\n",
    "from tensorflow import keras\n",
    "from tensorflow.keras.models import Sequential\n",
    "from tensorflow.keras.layers import Dense,Activation,Dropout\n",
    "import seaborn as sb\n",
    "from sklearn.model_selection import train_test_split\n",
    "from sklearn.preprocessing import MinMaxScaler\n",
    "from sklearn.metrics import mean_squared_error,mean_absolute_error\n",
    "from tensorflow.keras.callbacks import EarlyStopping\n",
    "from sklearn.metrics import classification_report\n",
    "import seaborn as sbn\n",
    "from sklearn import preprocessing"
   ]
  },
  {
   "cell_type": "code",
   "execution_count": 4,
   "metadata": {},
   "outputs": [
    {
     "name": "stdout",
     "output_type": "stream",
     "text": [
      "     Type  URL_LENGTH  NUMBER_SPECIAL_CHARACTERS  TCP_CONVERSATION_EXCHANGE  \\\n",
      "0       1   23.303047                  13.445560                 159.066933   \n",
      "1       1   26.645007                  23.018073                 172.149800   \n",
      "2       1   25.505113                  27.525833                 168.393333   \n",
      "3       1   14.792707                  26.398893                 100.491960   \n",
      "4       1   26.282313                  18.575080                 174.999533   \n",
      "..    ...         ...                        ...                        ...   \n",
      "543     1   27.927387                  29.002513                 183.937333   \n",
      "544     1   26.075060                  36.593167                 169.947733   \n",
      "545     1   21.502533                  36.372960                 140.284600   \n",
      "546     1   26.683867                  37.992127                 181.476200   \n",
      "547     0   10.051787                  31.787480                  62.072373   \n",
      "\n",
      "     DIST_REMOTE_TCP_PORT  REMOTE_IPS   APP_BYTES  SOURCE_APP_PACKETS  \\\n",
      "0             1296.628667    0.153367    0.359585            0.388730   \n",
      "1             1717.612000    0.109767    0.101865            0.112564   \n",
      "2             1558.286000    0.141969    0.207124            0.255699   \n",
      "3              500.128200    0.184585    0.367745            0.312693   \n",
      "4             1680.047333    0.129922    0.172020          256.476000   \n",
      "..                    ...         ...         ...                 ...   \n",
      "543           1915.798000  143.782000    0.150129            0.315932   \n",
      "544           1633.415333    0.126684    0.133937          186.528000   \n",
      "545           1111.525533    0.109520    0.132513            0.119831   \n",
      "546           1638.596667    0.152590  358.807333            0.455180   \n",
      "547            234.455333    0.068173    0.056502            0.000000   \n",
      "\n",
      "     REMOTE_APP_PACKETS  SOURCE_APP_BYTES  ...      SOURCE_I   SOURCE_J  \\\n",
      "0              0.190544          0.313341  ...     32.875560  22.448127   \n",
      "1              0.090894          0.234714  ...     32.370380  30.323753   \n",
      "2              0.165673          0.268004  ...     30.531007  33.069860   \n",
      "3              0.136269          0.336398  ...     19.313420  34.326333   \n",
      "4              0.135103          0.234326  ...     29.196813  21.593207   \n",
      "..                  ...               ...  ...           ...        ...   \n",
      "543            0.179922          0.223575  ...     32.966233  34.196800   \n",
      "544            0.126826          0.226942  ...     30.686447  49.546500   \n",
      "545            0.068679        205.958000  ...     24.585427  44.196773   \n",
      "546          196.890667          0.310491  ...     33.341880  51.062040   \n",
      "547            0.000000          0.205569  ...  12248.672000  39.339273   \n",
      "\n",
      "       SOURCE_K     SOURCE_M    SOURCE_L    SOURCE_N  SOURCE_O    SOURCE_P  \\\n",
      "0    239.118533  2615.278000    0.210103    0.862174  0.922148    0.343781   \n",
      "1    205.698933  2533.672000    0.160362    0.241709  0.312953  240.932000   \n",
      "2    197.538333  2213.724667    0.187046    0.549869  0.583418  314.766000   \n",
      "3    128.069607   735.360733    0.271761    1.122147  0.889764    0.333548   \n",
      "4    197.149733  2040.150000    0.177979  265.543333  0.518133    0.210492   \n",
      "..          ...          ...         ...         ...       ...         ...   \n",
      "543  215.154867  2625.640667  182.642000    0.273704  0.531993    0.287046   \n",
      "544  200.776667  2242.222000    0.151036    0.248963  0.416450    0.210880   \n",
      "545  164.118733  1455.954667    0.147538    0.400776  0.440802    0.183678   \n",
      "546  239.118533  2358.802000  213.730000    1.124479  1.215929  343.263333   \n",
      "547   76.631920   347.926533    0.116528    0.083471  0.000000    0.000000   \n",
      "\n",
      "       SOURCE_R    SOURCE_S  \n",
      "0      0.595983    0.154015  \n",
      "1    356.216667    0.115311  \n",
      "2      0.468004    0.113445  \n",
      "3      0.859842  224.092667  \n",
      "4      0.306217    0.099456  \n",
      "..          ...         ...  \n",
      "543  266.838667    0.092163  \n",
      "544    0.333160    0.085971  \n",
      "545    0.287305    0.101295  \n",
      "546    0.529403  160.621333  \n",
      "547    0.371890    0.091179  \n",
      "\n",
      "[548 rows x 31 columns]\n"
     ]
    }
   ],
   "source": [
    "veri=pd.read_excel(\"maliciousornot.xlsx\")\n",
    "print(veri)"
   ]
  },
  {
   "cell_type": "code",
   "execution_count": 5,
   "metadata": {},
   "outputs": [
    {
     "data": {
      "text/plain": [
       "URL_LENGTH                  -0.228422\n",
       "SOURCE_I                    -0.138708\n",
       "SOURCE_B                    -0.128587\n",
       "SOURCE_APP_BYTES            -0.086080\n",
       "SOURCE_C                    -0.075369\n",
       "REMOTE_APP_BYTES            -0.048806\n",
       "SOURCE_G                    -0.017433\n",
       "DNS_QUERY_TIMES             -0.011055\n",
       "SOURCE_F                    -0.007551\n",
       "SOURCE_E                     0.001985\n",
       "SOURCE_L                     0.022932\n",
       "SOURCE_D                     0.029479\n",
       "SOURCE_H                     0.055045\n",
       "SOURCE_O                     0.063622\n",
       "SOURCE_R                     0.069140\n",
       "SOURCE_N                     0.088076\n",
       "APP_BYTES                    0.096659\n",
       "REMOTE_IPS                   0.126232\n",
       "SOURCE_APP_PACKETS           0.129433\n",
       "REMOTE_APP_PACKETS           0.139874\n",
       "SOURCE_S                     0.141134\n",
       "SOURCE_P                     0.205141\n",
       "APP_PACKETS                  0.240818\n",
       "NUMBER_SPECIAL_CHARACTERS    0.412095\n",
       "SOURCE_J                     0.453197\n",
       "SOURCE_A                     0.536539\n",
       "DIST_REMOTE_TCP_PORT         0.710294\n",
       "SOURCE_M                     0.734002\n",
       "TCP_CONVERSATION_EXCHANGE    0.744570\n",
       "SOURCE_K                     0.784173\n",
       "Type                         1.000000\n",
       "Name: Type, dtype: float64"
      ]
     },
     "execution_count": 5,
     "metadata": {},
     "output_type": "execute_result"
    }
   ],
   "source": [
    "veri.corr()[\"Type\"].sort_values()"
   ]
  },
  {
   "cell_type": "code",
   "execution_count": 6,
   "metadata": {},
   "outputs": [],
   "source": [
    "x=veri.drop(\"Type\",axis=1).values\n"
   ]
  },
  {
   "cell_type": "code",
   "execution_count": 7,
   "metadata": {},
   "outputs": [],
   "source": [
    "y=veri[\"Type\"].values"
   ]
  },
  {
   "cell_type": "code",
   "execution_count": 8,
   "metadata": {},
   "outputs": [],
   "source": [
    "scaler=MinMaxScaler()"
   ]
  },
  {
   "cell_type": "code",
   "execution_count": 9,
   "metadata": {},
   "outputs": [],
   "source": [
    "x1,x2,y1,y2=train_test_split(x,y,test_size=0.35,random_state=15)"
   ]
  },
  {
   "cell_type": "code",
   "execution_count": 10,
   "metadata": {},
   "outputs": [
    {
     "data": {
      "text/plain": [
       "(356, 30)"
      ]
     },
     "execution_count": 10,
     "metadata": {},
     "output_type": "execute_result"
    }
   ],
   "source": [
    "x1=scaler.fit_transform(x1)\n",
    "x1.shape"
   ]
  },
  {
   "cell_type": "code",
   "execution_count": 11,
   "metadata": {},
   "outputs": [],
   "source": [
    "x2=scaler.fit_transform(x2)"
   ]
  },
  {
   "cell_type": "code",
   "execution_count": 12,
   "metadata": {},
   "outputs": [],
   "source": [
    "model=Sequential()\n",
    "model.add(Dense(30,activation=\"relu\"))\n",
    "model.add(Dropout(0.6))\n",
    "model.add(Dense(15,activation=\"relu\"))\n",
    "model.add(Dropout(0.6))\n",
    "model.add(Dense(15,activation=\"relu\"))\n",
    "model.add(Dropout(0.6))\n",
    "model.add(Dense(15,activation=\"relu\"))\n",
    "model.add(Dropout(0.6))\n",
    "model.add(Dense(1,activation=\"sigmoid\"))\n",
    "model.compile(optimizer=\"adam\",loss=\"binary_crossentropy\")"
   ]
  },
  {
   "cell_type": "code",
   "execution_count": 13,
   "metadata": {},
   "outputs": [],
   "source": [
    "earlys=EarlyStopping(monitor=\"val_loss\",mode=\"min\",verbose=1,patience=20)"
   ]
  },
  {
   "cell_type": "code",
   "execution_count": 14,
   "metadata": {},
   "outputs": [
    {
     "name": "stdout",
     "output_type": "stream",
     "text": [
      "Epoch 1/700\n",
      "12/12 [==============================] - 1s 10ms/step - loss: 0.7606 - val_loss: 0.6885\n",
      "Epoch 2/700\n",
      "12/12 [==============================] - 0s 2ms/step - loss: 0.7225 - val_loss: 0.6891\n",
      "Epoch 3/700\n",
      "12/12 [==============================] - 0s 2ms/step - loss: 0.7008 - val_loss: 0.6898\n",
      "Epoch 4/700\n",
      "12/12 [==============================] - 0s 2ms/step - loss: 0.6981 - val_loss: 0.6896\n",
      "Epoch 5/700\n",
      "12/12 [==============================] - 0s 2ms/step - loss: 0.6953 - val_loss: 0.6891\n",
      "Epoch 6/700\n",
      "12/12 [==============================] - 0s 2ms/step - loss: 0.6856 - val_loss: 0.6884\n",
      "Epoch 7/700\n",
      "12/12 [==============================] - 0s 2ms/step - loss: 0.7035 - val_loss: 0.6872\n",
      "Epoch 8/700\n",
      "12/12 [==============================] - 0s 2ms/step - loss: 0.6957 - val_loss: 0.6850\n",
      "Epoch 9/700\n",
      "12/12 [==============================] - 0s 2ms/step - loss: 0.6811 - val_loss: 0.6829\n",
      "Epoch 10/700\n",
      "12/12 [==============================] - 0s 2ms/step - loss: 0.6819 - val_loss: 0.6816\n",
      "Epoch 11/700\n",
      "12/12 [==============================] - 0s 2ms/step - loss: 0.6630 - val_loss: 0.6813\n",
      "Epoch 12/700\n",
      "12/12 [==============================] - 0s 2ms/step - loss: 0.6759 - val_loss: 0.6812\n",
      "Epoch 13/700\n",
      "12/12 [==============================] - 0s 2ms/step - loss: 0.6683 - val_loss: 0.6810\n",
      "Epoch 14/700\n",
      "12/12 [==============================] - 0s 2ms/step - loss: 0.6625 - val_loss: 0.6807\n",
      "Epoch 15/700\n",
      "12/12 [==============================] - 0s 2ms/step - loss: 0.6545 - val_loss: 0.6825\n",
      "Epoch 16/700\n",
      "12/12 [==============================] - 0s 2ms/step - loss: 0.6582 - val_loss: 0.6822\n",
      "Epoch 17/700\n",
      "12/12 [==============================] - 0s 2ms/step - loss: 0.6716 - val_loss: 0.6820\n",
      "Epoch 18/700\n",
      "12/12 [==============================] - 0s 2ms/step - loss: 0.6490 - val_loss: 0.6820\n",
      "Epoch 19/700\n",
      "12/12 [==============================] - 0s 2ms/step - loss: 0.6520 - val_loss: 0.6826\n",
      "Epoch 20/700\n",
      "12/12 [==============================] - 0s 2ms/step - loss: 0.6545 - val_loss: 0.6839\n",
      "Epoch 21/700\n",
      "12/12 [==============================] - 0s 2ms/step - loss: 0.6579 - val_loss: 0.6848\n",
      "Epoch 22/700\n",
      "12/12 [==============================] - 0s 2ms/step - loss: 0.6508 - val_loss: 0.6844\n",
      "Epoch 23/700\n",
      "12/12 [==============================] - 0s 2ms/step - loss: 0.6530 - val_loss: 0.6848\n",
      "Epoch 24/700\n",
      "12/12 [==============================] - 0s 2ms/step - loss: 0.6453 - val_loss: 0.6844\n",
      "Epoch 25/700\n",
      "12/12 [==============================] - 0s 2ms/step - loss: 0.6443 - val_loss: 0.6843\n",
      "Epoch 26/700\n",
      "12/12 [==============================] - 0s 2ms/step - loss: 0.6595 - val_loss: 0.6835\n",
      "Epoch 27/700\n",
      "12/12 [==============================] - 0s 2ms/step - loss: 0.6360 - val_loss: 0.6838\n",
      "Epoch 28/700\n",
      "12/12 [==============================] - 0s 2ms/step - loss: 0.6412 - val_loss: 0.6833\n",
      "Epoch 29/700\n",
      "12/12 [==============================] - 0s 2ms/step - loss: 0.6359 - val_loss: 0.6809\n",
      "Epoch 30/700\n",
      "12/12 [==============================] - 0s 2ms/step - loss: 0.6334 - val_loss: 0.6795\n",
      "Epoch 31/700\n",
      "12/12 [==============================] - 0s 2ms/step - loss: 0.6220 - val_loss: 0.6779\n",
      "Epoch 32/700\n",
      "12/12 [==============================] - 0s 2ms/step - loss: 0.6285 - val_loss: 0.6705\n",
      "Epoch 33/700\n",
      "12/12 [==============================] - 0s 2ms/step - loss: 0.6055 - val_loss: 0.6709\n",
      "Epoch 34/700\n",
      "12/12 [==============================] - 0s 2ms/step - loss: 0.6171 - val_loss: 0.6676\n",
      "Epoch 35/700\n",
      "12/12 [==============================] - 0s 2ms/step - loss: 0.6256 - val_loss: 0.6681\n",
      "Epoch 36/700\n",
      "12/12 [==============================] - 0s 2ms/step - loss: 0.6168 - val_loss: 0.6625\n",
      "Epoch 37/700\n",
      "12/12 [==============================] - 0s 2ms/step - loss: 0.6189 - val_loss: 0.6490\n",
      "Epoch 38/700\n",
      "12/12 [==============================] - 0s 2ms/step - loss: 0.6170 - val_loss: 0.6453\n",
      "Epoch 39/700\n",
      "12/12 [==============================] - 0s 2ms/step - loss: 0.5934 - val_loss: 0.6428\n",
      "Epoch 40/700\n",
      "12/12 [==============================] - 0s 2ms/step - loss: 0.6041 - val_loss: 0.6372\n",
      "Epoch 41/700\n",
      "12/12 [==============================] - 0s 2ms/step - loss: 0.6075 - val_loss: 0.6361\n",
      "Epoch 42/700\n",
      "12/12 [==============================] - 0s 2ms/step - loss: 0.5864 - val_loss: 0.6371\n",
      "Epoch 43/700\n",
      "12/12 [==============================] - 0s 2ms/step - loss: 0.6124 - val_loss: 0.6484\n",
      "Epoch 44/700\n",
      "12/12 [==============================] - 0s 2ms/step - loss: 0.5864 - val_loss: 0.6412\n",
      "Epoch 45/700\n",
      "12/12 [==============================] - 0s 2ms/step - loss: 0.6010 - val_loss: 0.6275\n",
      "Epoch 46/700\n",
      "12/12 [==============================] - 0s 2ms/step - loss: 0.6128 - val_loss: 0.6208\n",
      "Epoch 47/700\n",
      "12/12 [==============================] - 0s 2ms/step - loss: 0.5958 - val_loss: 0.6131\n",
      "Epoch 48/700\n",
      "12/12 [==============================] - 0s 2ms/step - loss: 0.5866 - val_loss: 0.6061\n",
      "Epoch 49/700\n",
      "12/12 [==============================] - 0s 2ms/step - loss: 0.5826 - val_loss: 0.5893\n",
      "Epoch 50/700\n",
      "12/12 [==============================] - 0s 2ms/step - loss: 0.5656 - val_loss: 0.5849\n",
      "Epoch 51/700\n",
      "12/12 [==============================] - 0s 2ms/step - loss: 0.5727 - val_loss: 0.5657\n",
      "Epoch 52/700\n",
      "12/12 [==============================] - 0s 2ms/step - loss: 0.5568 - val_loss: 0.5577\n",
      "Epoch 53/700\n",
      "12/12 [==============================] - 0s 2ms/step - loss: 0.5385 - val_loss: 0.5542\n",
      "Epoch 54/700\n",
      "12/12 [==============================] - 0s 2ms/step - loss: 0.5548 - val_loss: 0.5467\n",
      "Epoch 55/700\n",
      "12/12 [==============================] - 0s 2ms/step - loss: 0.5728 - val_loss: 0.5472\n",
      "Epoch 56/700\n",
      "12/12 [==============================] - 0s 2ms/step - loss: 0.5513 - val_loss: 0.5401\n",
      "Epoch 57/700\n",
      "12/12 [==============================] - 0s 2ms/step - loss: 0.5605 - val_loss: 0.5279\n",
      "Epoch 58/700\n",
      "12/12 [==============================] - 0s 2ms/step - loss: 0.5215 - val_loss: 0.5144\n",
      "Epoch 59/700\n",
      "12/12 [==============================] - 0s 2ms/step - loss: 0.5221 - val_loss: 0.4914\n",
      "Epoch 60/700\n",
      "12/12 [==============================] - 0s 2ms/step - loss: 0.5121 - val_loss: 0.4816\n",
      "Epoch 61/700\n",
      "12/12 [==============================] - 0s 2ms/step - loss: 0.5212 - val_loss: 0.4689\n",
      "Epoch 62/700\n",
      "12/12 [==============================] - 0s 2ms/step - loss: 0.5070 - val_loss: 0.4514\n",
      "Epoch 63/700\n",
      "12/12 [==============================] - 0s 2ms/step - loss: 0.5060 - val_loss: 0.4374\n",
      "Epoch 64/700\n",
      "12/12 [==============================] - 0s 2ms/step - loss: 0.4867 - val_loss: 0.4266\n",
      "Epoch 65/700\n",
      "12/12 [==============================] - 0s 2ms/step - loss: 0.4902 - val_loss: 0.4095\n",
      "Epoch 66/700\n",
      "12/12 [==============================] - 0s 2ms/step - loss: 0.4513 - val_loss: 0.4117\n",
      "Epoch 67/700\n",
      "12/12 [==============================] - 0s 2ms/step - loss: 0.4620 - val_loss: 0.4032\n",
      "Epoch 68/700\n",
      "12/12 [==============================] - 0s 2ms/step - loss: 0.5092 - val_loss: 0.4071\n",
      "Epoch 69/700\n",
      "12/12 [==============================] - 0s 2ms/step - loss: 0.4626 - val_loss: 0.3921\n",
      "Epoch 70/700\n",
      "12/12 [==============================] - 0s 2ms/step - loss: 0.4649 - val_loss: 0.3808\n",
      "Epoch 71/700\n",
      "12/12 [==============================] - 0s 2ms/step - loss: 0.5366 - val_loss: 0.3746\n",
      "Epoch 72/700\n",
      "12/12 [==============================] - 0s 2ms/step - loss: 0.4195 - val_loss: 0.3687\n",
      "Epoch 73/700\n",
      "12/12 [==============================] - 0s 2ms/step - loss: 0.4333 - val_loss: 0.3577\n",
      "Epoch 74/700\n",
      "12/12 [==============================] - 0s 2ms/step - loss: 0.4625 - val_loss: 0.3537\n",
      "Epoch 75/700\n",
      "12/12 [==============================] - 0s 3ms/step - loss: 0.4240 - val_loss: 0.3685\n",
      "Epoch 76/700\n",
      "12/12 [==============================] - 0s 3ms/step - loss: 0.4212 - val_loss: 0.3682\n",
      "Epoch 77/700\n",
      "12/12 [==============================] - 0s 2ms/step - loss: 0.4402 - val_loss: 0.3536\n",
      "Epoch 78/700\n",
      "12/12 [==============================] - 0s 3ms/step - loss: 0.4358 - val_loss: 0.3492\n",
      "Epoch 79/700\n",
      "12/12 [==============================] - 0s 3ms/step - loss: 0.4365 - val_loss: 0.3424\n",
      "Epoch 80/700\n",
      "12/12 [==============================] - 0s 2ms/step - loss: 0.4005 - val_loss: 0.3299\n",
      "Epoch 81/700\n",
      "12/12 [==============================] - 0s 2ms/step - loss: 0.3782 - val_loss: 0.3225\n",
      "Epoch 82/700\n",
      "12/12 [==============================] - 0s 2ms/step - loss: 0.4104 - val_loss: 0.3229\n",
      "Epoch 83/700\n"
     ]
    },
    {
     "name": "stdout",
     "output_type": "stream",
     "text": [
      "12/12 [==============================] - 0s 2ms/step - loss: 0.3889 - val_loss: 0.3212\n",
      "Epoch 84/700\n",
      "12/12 [==============================] - 0s 2ms/step - loss: 0.4158 - val_loss: 0.3168\n",
      "Epoch 85/700\n",
      "12/12 [==============================] - 0s 2ms/step - loss: 0.4330 - val_loss: 0.3107\n",
      "Epoch 86/700\n",
      "12/12 [==============================] - 0s 3ms/step - loss: 0.3848 - val_loss: 0.3074\n",
      "Epoch 87/700\n",
      "12/12 [==============================] - 0s 2ms/step - loss: 0.3798 - val_loss: 0.3050\n",
      "Epoch 88/700\n",
      "12/12 [==============================] - 0s 2ms/step - loss: 0.3770 - val_loss: 0.3008\n",
      "Epoch 89/700\n",
      "12/12 [==============================] - 0s 2ms/step - loss: 0.3650 - val_loss: 0.2978\n",
      "Epoch 90/700\n",
      "12/12 [==============================] - 0s 3ms/step - loss: 0.4081 - val_loss: 0.2963\n",
      "Epoch 91/700\n",
      "12/12 [==============================] - 0s 2ms/step - loss: 0.3584 - val_loss: 0.2964\n",
      "Epoch 92/700\n",
      "12/12 [==============================] - 0s 2ms/step - loss: 0.3496 - val_loss: 0.2946\n",
      "Epoch 93/700\n",
      "12/12 [==============================] - 0s 2ms/step - loss: 0.3559 - val_loss: 0.2933\n",
      "Epoch 94/700\n",
      "12/12 [==============================] - 0s 2ms/step - loss: 0.3907 - val_loss: 0.2931\n",
      "Epoch 95/700\n",
      "12/12 [==============================] - 0s 2ms/step - loss: 0.3519 - val_loss: 0.2949\n",
      "Epoch 96/700\n",
      "12/12 [==============================] - 0s 2ms/step - loss: 0.3723 - val_loss: 0.2938\n",
      "Epoch 97/700\n",
      "12/12 [==============================] - 0s 2ms/step - loss: 0.3227 - val_loss: 0.2961\n",
      "Epoch 98/700\n",
      "12/12 [==============================] - 0s 2ms/step - loss: 0.3429 - val_loss: 0.3033\n",
      "Epoch 99/700\n",
      "12/12 [==============================] - 0s 2ms/step - loss: 0.3354 - val_loss: 0.3094\n",
      "Epoch 100/700\n",
      "12/12 [==============================] - 0s 2ms/step - loss: 0.3041 - val_loss: 0.3128\n",
      "Epoch 101/700\n",
      "12/12 [==============================] - 0s 2ms/step - loss: 0.3073 - val_loss: 0.2946\n",
      "Epoch 102/700\n",
      "12/12 [==============================] - 0s 2ms/step - loss: 0.3477 - val_loss: 0.2891\n",
      "Epoch 103/700\n",
      "12/12 [==============================] - 0s 2ms/step - loss: 0.3495 - val_loss: 0.2870\n",
      "Epoch 104/700\n",
      "12/12 [==============================] - 0s 2ms/step - loss: 0.2709 - val_loss: 0.2877\n",
      "Epoch 105/700\n",
      "12/12 [==============================] - 0s 2ms/step - loss: 0.2995 - val_loss: 0.2932\n",
      "Epoch 106/700\n",
      "12/12 [==============================] - 0s 2ms/step - loss: 0.3313 - val_loss: 0.2968\n",
      "Epoch 107/700\n",
      "12/12 [==============================] - 0s 2ms/step - loss: 0.3036 - val_loss: 0.3025\n",
      "Epoch 108/700\n",
      "12/12 [==============================] - 0s 2ms/step - loss: 0.3308 - val_loss: 0.2880\n",
      "Epoch 109/700\n",
      "12/12 [==============================] - 0s 2ms/step - loss: 0.3111 - val_loss: 0.2854\n",
      "Epoch 110/700\n",
      "12/12 [==============================] - 0s 2ms/step - loss: 0.3493 - val_loss: 0.2871\n",
      "Epoch 111/700\n",
      "12/12 [==============================] - 0s 2ms/step - loss: 0.3225 - val_loss: 0.2876\n",
      "Epoch 112/700\n",
      "12/12 [==============================] - 0s 2ms/step - loss: 0.3140 - val_loss: 0.2874\n",
      "Epoch 113/700\n",
      "12/12 [==============================] - 0s 2ms/step - loss: 0.3035 - val_loss: 0.2937\n",
      "Epoch 114/700\n",
      "12/12 [==============================] - 0s 3ms/step - loss: 0.3093 - val_loss: 0.2902\n",
      "Epoch 115/700\n",
      "12/12 [==============================] - 0s 2ms/step - loss: 0.2806 - val_loss: 0.2926\n",
      "Epoch 116/700\n",
      "12/12 [==============================] - 0s 2ms/step - loss: 0.3016 - val_loss: 0.2953\n",
      "Epoch 117/700\n",
      "12/12 [==============================] - 0s 2ms/step - loss: 0.2664 - val_loss: 0.2989\n",
      "Epoch 118/700\n",
      "12/12 [==============================] - 0s 2ms/step - loss: 0.2653 - val_loss: 0.3201\n",
      "Epoch 119/700\n",
      "12/12 [==============================] - 0s 2ms/step - loss: 0.2654 - val_loss: 0.3247\n",
      "Epoch 120/700\n",
      "12/12 [==============================] - 0s 2ms/step - loss: 0.3362 - val_loss: 0.2919\n",
      "Epoch 121/700\n",
      "12/12 [==============================] - 0s 2ms/step - loss: 0.3085 - val_loss: 0.2932\n",
      "Epoch 122/700\n",
      "12/12 [==============================] - 0s 2ms/step - loss: 0.2535 - val_loss: 0.2949\n",
      "Epoch 123/700\n",
      "12/12 [==============================] - 0s 2ms/step - loss: 0.3251 - val_loss: 0.3324\n",
      "Epoch 124/700\n",
      "12/12 [==============================] - 0s 2ms/step - loss: 0.2524 - val_loss: 0.3370\n",
      "Epoch 125/700\n",
      "12/12 [==============================] - 0s 2ms/step - loss: 0.2566 - val_loss: 0.3257\n",
      "Epoch 126/700\n",
      "12/12 [==============================] - 0s 2ms/step - loss: 0.3292 - val_loss: 0.3028\n",
      "Epoch 127/700\n",
      "12/12 [==============================] - 0s 2ms/step - loss: 0.2900 - val_loss: 0.2995\n",
      "Epoch 128/700\n",
      "12/12 [==============================] - 0s 2ms/step - loss: 0.2668 - val_loss: 0.3050\n",
      "Epoch 129/700\n",
      "12/12 [==============================] - 0s 2ms/step - loss: 0.2982 - val_loss: 0.3178\n",
      "Epoch 00129: early stopping\n"
     ]
    },
    {
     "data": {
      "text/plain": [
       "<keras.callbacks.History at 0x223820672e0>"
      ]
     },
     "execution_count": 14,
     "metadata": {},
     "output_type": "execute_result"
    }
   ],
   "source": [
    "model.fit(x=x1,y=y1,validation_data=(x2,y2),epochs=700,callbacks=[earlys],verbose=1)"
   ]
  },
  {
   "cell_type": "code",
   "execution_count": 15,
   "metadata": {},
   "outputs": [],
   "source": [
    "loss=pd.DataFrame(model.history.history)"
   ]
  },
  {
   "cell_type": "code",
   "execution_count": 16,
   "metadata": {},
   "outputs": [
    {
     "data": {
      "text/plain": [
       "<AxesSubplot:>"
      ]
     },
     "execution_count": 16,
     "metadata": {},
     "output_type": "execute_result"
    },
    {
     "data": {
      "image/png": "[encoded data removed]",
      "text/plain": [
       "<Figure size 432x288 with 1 Axes>"
      ]
     },
     "metadata": {
      "needs_background": "light"
     },
     "output_type": "display_data"
    }
   ],
   "source": [
    "loss.plot()"
   ]
  },
  {
   "cell_type": "code",
   "execution_count": 17,
   "metadata": {},
   "outputs": [],
   "source": [
    "tahmin=model.predict(x2)\n",
    "tahmin=pd.DataFrame(tahmin,columns=[\"Tahmin\"])"
   ]
  },
  {
   "cell_type": "code",
   "execution_count": null,
   "metadata": {},
   "outputs": [],
   "source": []
  },
  {
   "cell_type": "code",
   "execution_count": 18,
   "metadata": {},
   "outputs": [],
   "source": [
    "y2=np.array(y2)\n",
    "gerceky= pd.DataFrame(y2,columns=[\"Gerçek Y\"])\n",
    "Sonuc=pd.concat([tahmin,gerceky],axis=1)\n",
    "Sonuc.columns=[\"Tahmin\",\"Gerçek Y\"]"
   ]
  },
  {
   "cell_type": "code",
   "execution_count": 19,
   "metadata": {},
   "outputs": [
    {
     "data": {
      "text/html": [
       "<div>\n",
       "<style scoped>\n",
       "    .dataframe tbody tr th:only-of-type {\n",
       "        vertical-align: middle;\n",
       "    }\n",
       "\n",
       "    .dataframe tbody tr th {\n",
       "        vertical-align: top;\n",
       "    }\n",
       "\n",
       "    .dataframe thead th {\n",
       "        text-align: right;\n",
       "    }\n",
       "</style>\n",
       "<table border=\"1\" class=\"dataframe\">\n",
       "  <thead>\n",
       "    <tr style=\"text-align: right;\">\n",
       "      <th></th>\n",
       "      <th>Tahmin</th>\n",
       "      <th>Gerçek Y</th>\n",
       "    </tr>\n",
       "  </thead>\n",
       "  <tbody>\n",
       "    <tr>\n",
       "      <th>0</th>\n",
       "      <td>0.096905</td>\n",
       "      <td>0</td>\n",
       "    </tr>\n",
       "    <tr>\n",
       "      <th>1</th>\n",
       "      <td>0.999999</td>\n",
       "      <td>1</td>\n",
       "    </tr>\n",
       "    <tr>\n",
       "      <th>2</th>\n",
       "      <td>0.096905</td>\n",
       "      <td>0</td>\n",
       "    </tr>\n",
       "    <tr>\n",
       "      <th>3</th>\n",
       "      <td>0.999995</td>\n",
       "      <td>1</td>\n",
       "    </tr>\n",
       "    <tr>\n",
       "      <th>4</th>\n",
       "      <td>0.096905</td>\n",
       "      <td>0</td>\n",
       "    </tr>\n",
       "    <tr>\n",
       "      <th>...</th>\n",
       "      <td>...</td>\n",
       "      <td>...</td>\n",
       "    </tr>\n",
       "    <tr>\n",
       "      <th>187</th>\n",
       "      <td>0.096905</td>\n",
       "      <td>0</td>\n",
       "    </tr>\n",
       "    <tr>\n",
       "      <th>188</th>\n",
       "      <td>0.845448</td>\n",
       "      <td>1</td>\n",
       "    </tr>\n",
       "    <tr>\n",
       "      <th>189</th>\n",
       "      <td>0.096905</td>\n",
       "      <td>0</td>\n",
       "    </tr>\n",
       "    <tr>\n",
       "      <th>190</th>\n",
       "      <td>0.096987</td>\n",
       "      <td>0</td>\n",
       "    </tr>\n",
       "    <tr>\n",
       "      <th>191</th>\n",
       "      <td>0.096905</td>\n",
       "      <td>0</td>\n",
       "    </tr>\n",
       "  </tbody>\n",
       "</table>\n",
       "<p>192 rows × 2 columns</p>\n",
       "</div>"
      ],
      "text/plain": [
       "       Tahmin  Gerçek Y\n",
       "0    0.096905         0\n",
       "1    0.999999         1\n",
       "2    0.096905         0\n",
       "3    0.999995         1\n",
       "4    0.096905         0\n",
       "..        ...       ...\n",
       "187  0.096905         0\n",
       "188  0.845448         1\n",
       "189  0.096905         0\n",
       "190  0.096987         0\n",
       "191  0.096905         0\n",
       "\n",
       "[192 rows x 2 columns]"
      ]
     },
     "execution_count": 19,
     "metadata": {},
     "output_type": "execute_result"
    }
   ],
   "source": [
    "Sonuc"
   ]
  },
  {
   "cell_type": "code",
   "execution_count": 3,
   "metadata": {},
   "outputs": [
    {
     "ename": "SyntaxError",
     "evalue": "invalid syntax (Temp/ipykernel_1300/1804046028.py, line 1)",
     "output_type": "error",
     "traceback": [
      "\u001b[1;36m  File \u001b[1;32m\"C:\\Users\\polat\\AppData\\Local\\Temp/ipykernel_1300/1804046028.py\"\u001b[1;36m, line \u001b[1;32m1\u001b[0m\n\u001b[1;33m    Sonuc[\"tahmin\"]=[1 if i>0.5 elif 2 i=0.6 else 0 for i in Sonuc[\"Tahmin\"]]\u001b[0m\n\u001b[1;37m                                ^\u001b[0m\n\u001b[1;31mSyntaxError\u001b[0m\u001b[1;31m:\u001b[0m invalid syntax\n"
     ]
    }
   ],
   "source": [
    "        Sonuc[\"tahmin\"]=[1 if i>0.5 elif 2 i=0.6 else 0 for i in Sonuc[\"Tahmin\"]]"
   ]
  },
  {
   "cell_type": "code",
   "execution_count": 21,
   "metadata": {},
   "outputs": [],
   "source": [
    "Sonuc=Sonuc.drop(\"Tahmin\",axis=1)"
   ]
  },
  {
   "cell_type": "code",
   "execution_count": 22,
   "metadata": {},
   "outputs": [
    {
     "data": {
      "text/html": [
       "<div>\n",
       "<style scoped>\n",
       "    .dataframe tbody tr th:only-of-type {\n",
       "        vertical-align: middle;\n",
       "    }\n",
       "\n",
       "    .dataframe tbody tr th {\n",
       "        vertical-align: top;\n",
       "    }\n",
       "\n",
       "    .dataframe thead th {\n",
       "        text-align: right;\n",
       "    }\n",
       "</style>\n",
       "<table border=\"1\" class=\"dataframe\">\n",
       "  <thead>\n",
       "    <tr style=\"text-align: right;\">\n",
       "      <th></th>\n",
       "      <th>Gerçek Y</th>\n",
       "      <th>tahmin</th>\n",
       "    </tr>\n",
       "  </thead>\n",
       "  <tbody>\n",
       "    <tr>\n",
       "      <th>0</th>\n",
       "      <td>0</td>\n",
       "      <td>0</td>\n",
       "    </tr>\n",
       "    <tr>\n",
       "      <th>1</th>\n",
       "      <td>1</td>\n",
       "      <td>1</td>\n",
       "    </tr>\n",
       "    <tr>\n",
       "      <th>2</th>\n",
       "      <td>0</td>\n",
       "      <td>0</td>\n",
       "    </tr>\n",
       "    <tr>\n",
       "      <th>3</th>\n",
       "      <td>1</td>\n",
       "      <td>1</td>\n",
       "    </tr>\n",
       "    <tr>\n",
       "      <th>4</th>\n",
       "      <td>0</td>\n",
       "      <td>0</td>\n",
       "    </tr>\n",
       "    <tr>\n",
       "      <th>...</th>\n",
       "      <td>...</td>\n",
       "      <td>...</td>\n",
       "    </tr>\n",
       "    <tr>\n",
       "      <th>187</th>\n",
       "      <td>0</td>\n",
       "      <td>0</td>\n",
       "    </tr>\n",
       "    <tr>\n",
       "      <th>188</th>\n",
       "      <td>1</td>\n",
       "      <td>1</td>\n",
       "    </tr>\n",
       "    <tr>\n",
       "      <th>189</th>\n",
       "      <td>0</td>\n",
       "      <td>0</td>\n",
       "    </tr>\n",
       "    <tr>\n",
       "      <th>190</th>\n",
       "      <td>0</td>\n",
       "      <td>0</td>\n",
       "    </tr>\n",
       "    <tr>\n",
       "      <th>191</th>\n",
       "      <td>0</td>\n",
       "      <td>0</td>\n",
       "    </tr>\n",
       "  </tbody>\n",
       "</table>\n",
       "<p>192 rows × 2 columns</p>\n",
       "</div>"
      ],
      "text/plain": [
       "     Gerçek Y  tahmin\n",
       "0           0       0\n",
       "1           1       1\n",
       "2           0       0\n",
       "3           1       1\n",
       "4           0       0\n",
       "..        ...     ...\n",
       "187         0       0\n",
       "188         1       1\n",
       "189         0       0\n",
       "190         0       0\n",
       "191         0       0\n",
       "\n",
       "[192 rows x 2 columns]"
      ]
     },
     "execution_count": 22,
     "metadata": {},
     "output_type": "execute_result"
    }
   ],
   "source": [
    "Sonuc"
   ]
  },
  {
   "cell_type": "code",
   "execution_count": 29,
   "metadata": {},
   "outputs": [
    {
     "name": "stdout",
     "output_type": "stream",
     "text": [
      "accuracy: 0.89\n"
     ]
    }
   ],
   "source": [
    "from sklearn.metrics import accuracy_score\n",
    "d=Sonuc.drop(\"Gerçek Y\",axis=1).values\n",
    "print(f\"accuracy: {accuracy_score(y2,d):.2f}\")"
   ]
  },
  {
   "cell_type": "code",
   "execution_count": null,
   "metadata": {},
   "outputs": [],
   "source": []
  },
  {
   "cell_type": "code",
   "execution_count": null,
   "metadata": {},
   "outputs": [],
   "source": []
  }
 ],
 "metadata": {
  "kernelspec": {
   "display_name": "Python 3 (ipykernel)",
   "language": "python",
   "name": "python3"
  },
  "language_info": {
   "codemirror_mode": {
    "name": "ipython",
    "version": 3
   },
   "file_extension": ".py",
   "mimetype": "text/x-python",
   "name": "python",
   "nbconvert_exporter": "python",
   "pygments_lexer": "ipython3",
   "version": "3.9.7"
  }
 },
 "nbformat": 4,
 "nbformat_minor": 4
}
